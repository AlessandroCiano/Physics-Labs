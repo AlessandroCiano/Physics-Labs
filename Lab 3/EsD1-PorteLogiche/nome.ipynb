{
 "cells": [
  {
   "cell_type": "code",
   "execution_count": 5,
   "metadata": {},
   "outputs": [
    {
     "name": "stdout",
     "output_type": "stream",
     "text": [
      "43.5+/-2.3\n"
     ]
    }
   ],
   "source": [
    "from uncertainties import ufloat\n",
    "\n",
    "a = ufloat(19, 1)\n",
    "b = ufloat(827, 8)\n",
    "\n",
    "I=(b/a)\n",
    "print(I)\n"
   ]
  }
 ],
 "metadata": {
  "kernelspec": {
   "display_name": "Python 3",
   "language": "python",
   "name": "python3"
  },
  "language_info": {
   "codemirror_mode": {
    "name": "ipython",
    "version": 3
   },
   "file_extension": ".py",
   "mimetype": "text/x-python",
   "name": "python",
   "nbconvert_exporter": "python",
   "pygments_lexer": "ipython3",
   "version": "3.10.12"
  }
 },
 "nbformat": 4,
 "nbformat_minor": 2
}
