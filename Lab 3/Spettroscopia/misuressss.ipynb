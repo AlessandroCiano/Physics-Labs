{
 "cells": [
  {
   "cell_type": "code",
   "execution_count": 2,
   "metadata": {},
   "outputs": [
    {
     "name": "stdout",
     "output_type": "stream",
     "text": [
      "zero =  168.583+/-0.017\n",
      "riflessione =  212.425+/-0.017\n",
      "verde1 =  264.700+/-0.017\n",
      "viola0 =  254.233+/-0.017\n",
      "viola1 =  254.483+/-0.017\n",
      "blu0 =  256.583+/-0.017\n",
      "giallo0 =  266.892+/-0.017\n",
      "giallo1 =  267.050+/-0.017\n",
      "viola2 =  282.975+/-0.017\n",
      "blu1 =  287.300+/-0.017\n",
      "verde2 =  303.025+/-0.017\n",
      "\n",
      "\n",
      "veroriflessione =  43.842+/-0.024\n",
      "veroverde1 =  96.117+/-0.024\n",
      "veroviola0 =  85.650+/-0.024\n",
      "veroviola1 =  85.900+/-0.024\n",
      "veroblu0 =  88.000+/-0.024\n",
      "verogiallo0 =  98.308+/-0.024\n",
      "verogiallo1 =  98.467+/-0.024\n",
      "veroviola2 =  114.392+/-0.024\n",
      "veroblu1 =  118.717+/-0.024\n",
      "veroverde2 =  134.442+/-0.024\n",
      "\n",
      "\n",
      "0.65535+/-0.00035 ,  0.48509+/-0.00033 ,  0.48900+/-0.00033 ,  0.52223+/-0.00033 ,  0.69235+/-0.00035 ,  0.69503+/-0.00035 ,  0.9708+/-0.0004 ,  1.0460+/-0.0004 ,  1.31072+/-0.00034\n"
     ]
    }
   ],
   "source": [
    "import numpy\n",
    "from uncertainties import ufloat\n",
    "from uncertainties.umath import *\n",
    "\n",
    "zero = ufloat(168+1/3+15/60, 1/60)\n",
    "riflessione = ufloat(212+1/3+5.5/60, 1/60)\n",
    "\n",
    "verde1 = ufloat(264+0/3+42/60, 1/60)\n",
    "viola0 = ufloat(254+0/3+14/60, 1/60)\n",
    "viola1 = ufloat(254+1/3+9/60, 1/60)\n",
    "blu0 =  ufloat(256+1/3+15/60, 1/60)\n",
    "giallo0 = ufloat(266+2/3+13.5/60, 1/60)\n",
    "giallo1 = ufloat(267+0/3+3/60, 1/60)\n",
    "viola2 = ufloat(282+2/3+18.5/60, 1/60)\n",
    "blu1 = ufloat(287+0/3+18/60, 1/60)\n",
    "verde2 = ufloat(303+0/3+1.5/60, 1/60)\n",
    "\n",
    "veroriflessione = (riflessione - zero)*numpy.pi/180\n",
    "veroverde1 = (verde1 - zero)*numpy.pi/180\n",
    "veroviola0 = (viola0 - zero)*numpy.pi/180\n",
    "veroviola1 = (viola1 - zero)*numpy.pi/180\n",
    "veroblu0 = (blu0 - zero)*numpy.pi/180\n",
    "verogiallo0 = (giallo0 - zero)*numpy.pi/180\n",
    "verogiallo1 = (giallo1 - zero)*numpy.pi/180\n",
    "veroviola2 = (viola2 - zero)*numpy.pi/180\n",
    "veroblu1 = (blu1 - zero)*numpy.pi/180\n",
    "veroverde2 = (verde2 - zero)*numpy.pi/180\n",
    "\n",
    "theta_i = 0.5*(numpy.pi - veroriflessione)\n",
    "theta_d1 = numpy.pi - theta_i - veroverde1\n",
    "theta_d2 = numpy.pi - theta_i - veroviola0\n",
    "theta_d3 = numpy.pi - theta_i - veroviola1\n",
    "theta_d4 = numpy.pi - theta_i - veroblu0\n",
    "theta_d5 = numpy.pi - theta_i - verogiallo0\n",
    "theta_d6 = numpy.pi - theta_i - verogiallo1\n",
    "theta_d7 = numpy.pi - theta_i - veroviola2\n",
    "theta_d8 = numpy.pi - theta_i - veroblu1\n",
    "theta_d9 = numpy.pi - theta_i - veroverde2\n",
    "\n",
    "y_1 = sin(theta_i)-sin(theta_d1)\n",
    "y_2 = sin(theta_i)-sin(theta_d2)\n",
    "y_3 = sin(theta_i)-sin(theta_d3)\n",
    "y_4 = sin(theta_i)-sin(theta_d4)\n",
    "y_5 = sin(theta_i)-sin(theta_d5)\n",
    "y_6 = sin(theta_i)-sin(theta_d6)\n",
    "y_7 = sin(theta_i)-sin(theta_d7)\n",
    "y_8 = sin(theta_i)-sin(theta_d8)\n",
    "y_9 = sin(theta_i)-sin(theta_d9)\n",
    "\n",
    "\n",
    "print('zero = ', zero)\n",
    "print('riflessione = ', riflessione)\n",
    "print('verde1 = ', verde1)\n",
    "print('viola0 = ', viola0) \n",
    "print('viola1 = ', viola1)\n",
    "print('blu0 = ', blu0)\n",
    "print('giallo0 = ', giallo0)\n",
    "print('giallo1 = ', giallo1)\n",
    "print('viola2 = ', viola2)\n",
    "print('blu1 = ', blu1)\n",
    "print('verde2 = ', verde2)\n",
    "\n",
    "print(\"\\n\")\n",
    "'''\n",
    "print(veroverde1)\n",
    "print(veroviola0)\n",
    "print(veroviola1)\n",
    "print(veroblu0)\n",
    "print(verogiallo0)\n",
    "print(verogiallo1)\n",
    "print(veroviola2)\n",
    "print(veroblu1)\n",
    "print(veroverde2)\n",
    "\n",
    "print(\"\\n\")\n",
    "'''\n",
    "#print vero measurements but in degrees\n",
    "print('veroriflessione = ', veroriflessione*180/numpy.pi)\n",
    "print('veroverde1 = ', veroverde1*180/numpy.pi)\n",
    "print('veroviola0 = ', veroviola0*180/numpy.pi)\n",
    "print('veroviola1 = ', veroviola1*180/numpy.pi)\n",
    "print('veroblu0 = ', veroblu0*180/numpy.pi)\n",
    "print('verogiallo0 = ', verogiallo0*180/numpy.pi)\n",
    "print('verogiallo1 = ', verogiallo1*180/numpy.pi)\n",
    "print('veroviola2 = ', veroviola2*180/numpy.pi)\n",
    "print('veroblu1 = ', veroblu1*180/numpy.pi)\n",
    "print('veroverde2 = ', veroverde2*180/numpy.pi)\n",
    "\n",
    "print(\"\\n\")\n",
    "\n",
    "print(y_1, ', ', y_2, ', ', y_3, ', ', y_4, ', ', y_5, ', ', y_6, ', ', y_7, ', ', y_8, ', ', y_9)\n"
   ]
  },
  {
   "cell_type": "markdown",
   "metadata": {},
   "source": [
    "Lampada Idrogeno"
   ]
  },
  {
   "cell_type": "code",
   "execution_count": 3,
   "metadata": {},
   "outputs": [
    {
     "name": "stdout",
     "output_type": "stream",
     "text": [
      "168.533+/-0.017\n",
      "197.700+/-0.017\n",
      "246.583+/-0.017\n",
      "246.817+/-0.017\n",
      "250.533+/-0.017\n",
      "262.783+/-0.017\n",
      "\n",
      "\n",
      "29.167+/-0.024\n",
      "78.050+/-0.024\n",
      "78.283+/-0.024\n",
      "82.000+/-0.024\n",
      "94.250+/-0.024\n"
     ]
    }
   ],
   "source": [
    "zero = ufloat(168+1/3+12/60, 1/60)\n",
    "riflessione = ufloat(197+2/3+2/60, 1/60)\n",
    "\n",
    "viola = ufloat(246+1/3+15/60, 1/60)\n",
    "viola2 = ufloat(246+2/3+9/60, 1/60)\n",
    "azzurino = ufloat(250+1/3+12/60, 1/60)\n",
    "rosso = ufloat(262+2/3+7/60, 1/60)\n",
    "\n",
    "print(zero)\n",
    "print(riflessione)\n",
    "print(viola)\n",
    "print(viola2)\n",
    "print(azzurino)\n",
    "print(rosso)\n",
    "\n",
    "#calculate the angles subtracting the zero angle\n",
    "veroriflessione = (riflessione - zero)\n",
    "veroviola = (viola - zero)\n",
    "veroviola2 = (viola2 - zero)\n",
    "veroazzurino = (azzurino - zero)\n",
    "verorosso = (rosso - zero)\n",
    "\n",
    "print(\"\\n\")\n",
    "\n",
    "print(veroriflessione)\n",
    "print(veroviola)\n",
    "print(veroviola2)\n",
    "print(veroazzurino)\n",
    "print(verorosso)\n"
   ]
  },
  {
   "cell_type": "code",
   "execution_count": 11,
   "metadata": {},
   "outputs": [
    {
     "name": "stdout",
     "output_type": "stream",
     "text": [
      "prova =  1.000000000000000000+/-0.000000000000000010\n",
      "lambda_1 =  (-8.744+/-0.008)e-18\n",
      "lambda_2 =  (-8.770+/-0.008)e-18\n",
      "lambda_3 =  (-9.186+/-0.009)e-18\n",
      "lambda_4 =  (-1.0557+/-0.0010)e-17\n"
     ]
    }
   ],
   "source": [
    "d = ufloat(833.8, 0.4)*1e-9\n",
    "\n",
    "veroriflessione = veroriflessione*numpy.pi/180\n",
    "veroviola = veroviola*numpy.pi/180\n",
    "veroviola2 = veroviola2*numpy.pi/180\n",
    "veroazzurino = veroazzurino*numpy.pi/180\n",
    "verorosso = verorosso*numpy.pi/180\n",
    "\n",
    "theta_i = 0.5*(numpy.pi - veroriflessione)\n",
    "theta_d1 = numpy.pi - theta_i - veroviola\n",
    "theta_d2 = numpy.pi - theta_i - veroviola2\n",
    "theta_d3 = numpy.pi - theta_i - veroazzurino\n",
    "theta_d4 = numpy.pi - theta_i - verorosso\n",
    "\n",
    "y_1 = sin(theta_i)-sin(theta_d1)\n",
    "y_2 = sin(theta_i)-sin(theta_d2)\n",
    "y_3 = sin(theta_i)-sin(theta_d3)\n",
    "y_4 = sin(theta_i)-sin(theta_d4)\n",
    "\n",
    "lambda_1 = d*y_1\n",
    "lambda_2 = d*y_2\n",
    "lambda_3 = d*y_3\n",
    "lambda_4 = d*y_4\n",
    "\n",
    "print('lambda_1 = ', lambda_1)\n",
    "print('lambda_2 = ', lambda_2)\n",
    "print('lambda_3 = ', lambda_3)\n",
    "print('lambda_4 = ', lambda_4)"
   ]
  },
  {
   "cell_type": "code",
   "execution_count": 13,
   "metadata": {},
   "outputs": [
    {
     "name": "stdout",
     "output_type": "stream",
     "text": [
      "168.483+/-0.017\n",
      "199.717+/-0.017\n",
      "259.225+/-0.017\n",
      "259.275+/-0.017\n",
      "\n",
      "\n",
      "31.234+/-0.024\n",
      "90.742+/-0.024\n",
      "90.792+/-0.024\n",
      "lambda_1 =  (5.890+/-0.004)e-07\n",
      "lambda_2 =  (5.897+/-0.004)e-07\n"
     ]
    }
   ],
   "source": [
    "d = ufloat(833.8, 0.4)*1e-9\n",
    "\n",
    "zero = ufloat(168.483, 1/60)\n",
    "riflessione = ufloat(199.717, 1/60)\n",
    "\n",
    "m1 = ufloat(259.225, 1/60)\n",
    "m2 = ufloat(259.275, 1/60)\n",
    "\n",
    "veroriflessione = riflessione - zero\n",
    "verom1 = m1 - zero\n",
    "verom2 = m2 - zero\n",
    "\n",
    "print(zero)\n",
    "print(riflessione)\n",
    "print(m1)\n",
    "print(m2)\n",
    "\n",
    "print('\\n')\n",
    "\n",
    "print(veroriflessione)\n",
    "print(verom1)\n",
    "print(verom2)\n",
    "\n",
    "veroriflessione = veroriflessione*numpy.pi/180\n",
    "verom1 = verom1*numpy.pi/180\n",
    "verom2 = verom2*numpy.pi/180\n",
    "\n",
    "theta_i = 0.5*(numpy.pi - veroriflessione)\n",
    "theta_d1 = numpy.pi - theta_i - verom1\n",
    "theta_d2 = numpy.pi - theta_i - verom2\n",
    "\n",
    "y_1 = sin(theta_i)-sin(theta_d1)\n",
    "y_2 = sin(theta_i)-sin(theta_d2)\n",
    "\n",
    "lambda_1 = d*y_1\n",
    "lambda_2 = d*y_2\n",
    "\n",
    "print('lambda_1 = ', lambda_1)\n",
    "print('lambda_2 = ', lambda_2)\n"
   ]
  },
  {
   "cell_type": "markdown",
   "metadata": {},
   "source": [
    "Da ora PRISMA cadmio"
   ]
  },
  {
   "cell_type": "code",
   "execution_count": 7,
   "metadata": {},
   "outputs": [
    {
     "name": "stdout",
     "output_type": "stream",
     "text": [
      "341.700+/-0.017\n",
      "294.583+/-0.017\n",
      "293.333+/-0.017\n",
      "292.900+/-0.017\n"
     ]
    }
   ],
   "source": [
    "zero = ufloat(341+1/2+12/60, 1/60)\n",
    "\n",
    "rosso = ufloat(294+1/2+5/60, 1/60)\n",
    "verde = ufloat(293+20/60, 1/60)\n",
    "azzurro = ufloat(292+1/2+24/60, 1/60)\n",
    "blu = ufloat(292+1/2+11/60, 1/60)\n",
    "\n",
    "print(zero)\n",
    "print(rosso)\n",
    "print(verde)\n",
    "print(azzurro)"
   ]
  },
  {
   "cell_type": "markdown",
   "metadata": {},
   "source": [
    "ora Prisma Sodio"
   ]
  },
  {
   "cell_type": "code",
   "execution_count": 11,
   "metadata": {},
   "outputs": [
    {
     "name": "stdout",
     "output_type": "stream",
     "text": [
      "342.417+/-0.017\n",
      "294.233+/-0.017\n"
     ]
    }
   ],
   "source": [
    "zero = ufloat(342+0/2+25/60, 1/60)\n",
    "giallo = ufloat(294+0/2+14/60, 1/60)\n",
    "\n",
    "print(zero)\n",
    "print(giallo)"
   ]
  },
  {
   "cell_type": "code",
   "execution_count": 9,
   "metadata": {},
   "outputs": [
    {
     "name": "stdout",
     "output_type": "stream",
     "text": [
      "(2.3036+/-0.0016)e+06\n",
      "(2.2873+/-0.0016)e+06\n",
      "(2.0559+/-0.0013)e+06\n",
      "(1.5251+/-0.0007)e+06\n"
     ]
    }
   ],
   "source": [
    "z1 = ufloat(434.1, 0.3)*10**-9\n",
    "d1=1/z1\n",
    "#same for 437.2, 486.4, 655.7\n",
    "z2 = ufloat(437.2, 0.3)*10**-9\n",
    "d2=1/z2\n",
    "z3 = ufloat(486.4, 0.3)*10**-9\n",
    "d3=1/z3\n",
    "z4 = ufloat(655.7, 0.3)*10**-9\n",
    "d4=1/z4\n",
    "\n",
    "print(d1)\n",
    "print(d2)\n",
    "print(d3)\n",
    "print(d4)"
   ]
  }
 ],
 "metadata": {
  "kernelspec": {
   "display_name": "Python 3",
   "language": "python",
   "name": "python3"
  },
  "language_info": {
   "codemirror_mode": {
    "name": "ipython",
    "version": 3
   },
   "file_extension": ".py",
   "mimetype": "text/x-python",
   "name": "python",
   "nbconvert_exporter": "python",
   "pygments_lexer": "ipython3",
   "version": "3.10.12"
  }
 },
 "nbformat": 4,
 "nbformat_minor": 2
}
