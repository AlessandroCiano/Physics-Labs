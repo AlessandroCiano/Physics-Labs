{
 "cells": [
  {
   "cell_type": "code",
   "execution_count": 2,
   "metadata": {},
   "outputs": [
    {
     "name": "stdout",
     "output_type": "stream",
     "text": [
      "C =  (1.00+/-0.05)e-09  F\n",
      "R_1 =  (1.003+/-0.010)e+05  Ohm\n",
      "0.000100+/-0.000005\n"
     ]
    }
   ],
   "source": [
    "from uncertainties import ufloat\n",
    "import numpy as np\n",
    "\n",
    "C = ufloat(1,1*0.05)*1e-9\n",
    "R_1 = ufloat(100.3, 0.2+0.008*100.3)*1e3\n",
    "\n",
    "print('C = ', C, ' F')\n",
    "print('R_1 = ', R_1, ' Ohm')\n",
    "tau=R_1*C\n",
    "print(tau)"
   ]
  },
  {
   "cell_type": "markdown",
   "metadata": {},
   "source": [
    "Durata impulso uscita = T+ = (374.3 us us +- 20) us "
   ]
  },
  {
   "cell_type": "code",
   "execution_count": 11,
   "metadata": {},
   "outputs": [
    {
     "name": "stdout",
     "output_type": "stream",
     "text": [
      "374.3+/-2.5\n",
      "(6.00+/-0.30)e-11\n"
     ]
    }
   ],
   "source": [
    "T=ufloat(374.3, 2*50/(10*np.sqrt(12)+5))\n",
    "print(T)\n",
    "\n",
    "Q=ufloat(60e-3*1e-9, 60e-3*1e-9*0.05)\n",
    "print(Q)\n",
    "\n"
   ]
  },
  {
   "cell_type": "code",
   "execution_count": 5,
   "metadata": {},
   "outputs": [
    {
     "name": "stdout",
     "output_type": "stream",
     "text": [
      "-4.95+/-0.20\n"
     ]
    }
   ],
   "source": [
    "R_1 = ufloat(9.89, 0.28)*1e3\n",
    "R_2 = ufloat(9.98, 0.28)*1e3\n",
    "\n",
    "\n",
    "beta=R_1/(R_1+R_2)\n",
    "\n",
    "V_max=-beta*5/(1-beta)\n",
    "print(V_max)"
   ]
  },
  {
   "cell_type": "code",
   "execution_count": 6,
   "metadata": {},
   "outputs": [
    {
     "ename": "SyntaxError",
     "evalue": "invalid syntax (1120962294.py, line 9)",
     "output_type": "error",
     "traceback": [
      "\u001b[0;36m  Cell \u001b[0;32mIn[6], line 9\u001b[0;36m\u001b[0m\n\u001b[0;31m    T2=\u001b[0m\n\u001b[0m       ^\u001b[0m\n\u001b[0;31mSyntaxError\u001b[0m\u001b[0;31m:\u001b[0m invalid syntax\n"
     ]
    }
   ],
   "source": [
    "R_1=ufloat(9.89, 0.28)*1e3\n",
    "R_2=ufloat(9.98, 0.28)*1e3\n",
    "R_3=ufloat(9.89, 0.28)*1e3\n",
    "C_1=ufloat(98,0.34)*1e-9\n",
    "\n",
    "\n",
    "tau=R_3*C_1\n",
    "T1=tau*np.log(5)\n",
    "T2="
   ]
  }
 ],
 "metadata": {
  "kernelspec": {
   "display_name": "Python 3",
   "language": "python",
   "name": "python3"
  },
  "language_info": {
   "codemirror_mode": {
    "name": "ipython",
    "version": 3
   },
   "file_extension": ".py",
   "mimetype": "text/x-python",
   "name": "python",
   "nbconvert_exporter": "python",
   "pygments_lexer": "ipython3",
   "version": "3.10.12"
  }
 },
 "nbformat": 4,
 "nbformat_minor": 2
}
