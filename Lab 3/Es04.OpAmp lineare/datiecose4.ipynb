{
 "cells": [
  {
   "cell_type": "code",
   "execution_count": 2,
   "metadata": {},
   "outputs": [
    {
     "name": "stdout",
     "output_type": "stream",
     "text": [
      "R1err =  2.18\n",
      "R2err =  9.943999999999999\n"
     ]
    }
   ],
   "source": [
    "from uncertainties import ufloat\n",
    "\n",
    "R1err=(0.3+0.04*47)\n",
    "print('R1err = ', R1err)\n",
    "R2err=(2+0.008*993)\n",
    "print('R2err = ', R2err)"
   ]
  },
  {
   "cell_type": "markdown",
   "metadata": {},
   "source": [
    "R_1 = (5.08 +- 0.06064) kOhm\n",
    "R_2 = (0.991 +- 0.0027928)"
   ]
  },
  {
   "cell_type": "code",
   "execution_count": 4,
   "metadata": {},
   "outputs": [
    {
     "name": "stdout",
     "output_type": "stream",
     "text": [
      "1.1951+/-0.0024\n"
     ]
    }
   ],
   "source": [
    "R_1 = ufloat(5.08, 0.06064)\n",
    "R_2 = ufloat(0.991, 0.0027928)\n",
    "\n",
    "A_exp=1+R_2/R_1\n",
    "print(A_exp)"
   ]
  },
  {
   "cell_type": "code",
   "execution_count": 6,
   "metadata": {},
   "outputs": [
    {
     "name": "stdout",
     "output_type": "stream",
     "text": [
      "R2err =  404 +- 1.6 mv\n",
      "R2err =  404 +- 1.6 mv\n"
     ]
    }
   ],
   "source": [
    "V_1=404\n",
    "V_1err=(1+100*0.003+0.3)\n",
    "print('R2err = ', V_1, '+-', V_1err, 'mv')\n",
    "V_2=482\n",
    "V_2err=(1+100*0.003+0.3)\n",
    "print('R2err = ', V_1, '+-', V_2err, 'mv')\n"
   ]
  },
  {
   "cell_type": "code",
   "execution_count": 11,
   "metadata": {},
   "outputs": [
    {
     "name": "stdout",
     "output_type": "stream",
     "text": [
      "A_v = 1.193+/-0.006\n"
     ]
    }
   ],
   "source": [
    "v1=ufloat(V_1, V_1err)\n",
    "v2=ufloat(V_2, V_2err)\n",
    "\n",
    "A_v=v2/v1\n",
    "\n",
    "print('A_v =', A_v)"
   ]
  },
  {
   "cell_type": "code",
   "execution_count": 25,
   "metadata": {},
   "outputs": [
    {
     "name": "stdout",
     "output_type": "stream",
     "text": [
      "3.372+/-0.027\n"
     ]
    }
   ],
   "source": [
    "import numpy as np\n",
    "V=np.mean([3.3808, 3.3997, 3.3362])\n",
    "Verr=np.std([3.3808, 3.3997, 3.3362])\n",
    "VE=ufloat(V,Verr)\n",
    "print(VE)"
   ]
  },
  {
   "cell_type": "code",
   "execution_count": 26,
   "metadata": {},
   "outputs": [
    {
     "name": "stdout",
     "output_type": "stream",
     "text": [
      "100.0+/-1.2\n"
     ]
    }
   ],
   "source": [
    "T=ufloat(10, 0.4/np.sqrt(12))*1e-3\n",
    "f=1/T\n",
    "print(f)"
   ]
  }
 ],
 "metadata": {
  "kernelspec": {
   "display_name": "Python 3",
   "language": "python",
   "name": "python3"
  },
  "language_info": {
   "codemirror_mode": {
    "name": "ipython",
    "version": 3
   },
   "file_extension": ".py",
   "mimetype": "text/x-python",
   "name": "python",
   "nbconvert_exporter": "python",
   "pygments_lexer": "ipython3",
   "version": "3.10.12"
  }
 },
 "nbformat": 4,
 "nbformat_minor": 2
}
