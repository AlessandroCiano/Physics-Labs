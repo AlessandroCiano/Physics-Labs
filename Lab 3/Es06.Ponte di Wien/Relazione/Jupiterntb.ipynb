{
 "cells": [
  {
   "cell_type": "code",
   "execution_count": 2,
   "metadata": {},
   "outputs": [
    {
     "name": "stdout",
     "output_type": "stream",
     "text": [
      "R_1 =  (9.93+/-0.08)e+03\n",
      "R_2 =  (9.89+/-0.08)e+03\n",
      "R_3 =  (9.98+/-0.08)e+03\n",
      "R_4 =  (9.91+/-0.08)e+03\n",
      "R_Ttot =  (9.28+/-0.08)e+03\n",
      "R_T1 =  (5.53+/-0.05)e+03\n",
      "R_T2 =  3600+/-35\n"
     ]
    }
   ],
   "source": [
    "from uncertainties import ufloat\n",
    "import numpy as np\n",
    "\n",
    "R_1 = ufloat(9.93, np.sqrt((0.008*9.93)**2+(0.02)**2))*1e3\n",
    "R_2 = ufloat(9.89, np.sqrt((0.008*9.89)**2+(0.02)**2))*1e3\n",
    "R_3 = ufloat(9.98, np.sqrt((0.008*9.98)**2+(0.02)**2))*1e3\n",
    "R_4 = ufloat(9.91, np.sqrt((0.008*9.91)**2+(0.02)**2))*1e3\n",
    "R_5 = ufloat(9.92, np.sqrt((0.008*9.92)**2+(0.02)**2))*1e3\n",
    "R_Ttot = ufloat(9.28, np.sqrt((0.008*9.28)**2+(0.02)**2))*1e3\n",
    "R_T2 = ufloat(3.60, np.sqrt((0.008*3.60)**2+(0.02)**2))*1e3\n",
    "R_T1 = ufloat(5.53, np.sqrt((0.008*5.53)**2+(0.02)**2))*1e3\n",
    "print('R_1 = ', R_1)\n",
    "print('R_2 = ', R_2)\n",
    "print('R_3 = ', R_3)\n",
    "print('R_4 = ', R_4)\n",
    "print('R_Ttot = ', R_Ttot)\n",
    "print('R_T1 = ', R_T1)\n",
    "print('R_T2 = ', R_T2)"
   ]
  },
  {
   "cell_type": "code",
   "execution_count": 4,
   "metadata": {},
   "outputs": [
    {
     "name": "stdout",
     "output_type": "stream",
     "text": [
      "C_1 =  (1.00+/-0.04)e-08\n",
      "C_2 =  (1.03+/-0.04)e-08\n"
     ]
    }
   ],
   "source": [
    "C_1 = ufloat(9.96, np.sqrt((0.04*9.96)**2+0.03**2))*1e-9\n",
    "C_2 = ufloat(10.35, np.sqrt((0.04*10.35)**2+0.03**2))*1e-9\n",
    "print('C_1 = ', C_1)\n",
    "print('C_2 = ', C_2)"
   ]
  },
  {
   "cell_type": "code",
   "execution_count": 5,
   "metadata": {},
   "outputs": [
    {
     "name": "stdout",
     "output_type": "stream",
     "text": [
      "V_s1 =  495.0+/-1.3 mV\n",
      "V_out1 =  1860+/-10 mV\n",
      "A_1 =  3.758+/-0.023\n",
      "A_1atteso =  3.941+/-0.028\n",
      "\n",
      "\n",
      "V_s2 =  496.0+/-1.3 mV\n",
      "V_out2 =  1010+/-10 mV\n",
      "A_2 =  2.036+/-0.021\n",
      "A_2atteso =  2.036+/-0.009\n",
      "\n",
      "\n",
      "f_0attesa =  (1.61+/-0.07)e+03\n",
      "\n",
      "\n",
      "V_s0 =  495.0+/-1.3 mV\n",
      "V_A0 =  488+/-10 mV\n",
      "A_0 =  0.986+/-0.020\n"
     ]
    }
   ],
   "source": [
    "V_s1 = ufloat(495, np.sqrt(1**2+(0.3+0.003*200)**2))\n",
    "V_out1 = ufloat(1860, np.sqrt(10**2+(0.3+0.003*200)**2))\n",
    "\n",
    "\n",
    "A_1 = V_out1/V_s1\n",
    "A_1atteso = 1+(R_4+R_3+R_Ttot)/(R_5)\n",
    "\n",
    "print('V_s1 = ', V_s1, 'mV')\n",
    "print('V_out1 = ', V_out1, 'mV')\n",
    "print('A_1 = ', A_1)\n",
    "print('A_1atteso = ', A_1atteso)\n",
    "\n",
    "print('\\n')\n",
    "\n",
    "V_s2 = ufloat(496, np.sqrt(1**2+(0.3+0.003*200)**2))\n",
    "V_out2 = ufloat(1010, np.sqrt(10**2+(0.3+0.003*200)**2))\n",
    "A_2 = V_out2/V_s2\n",
    "A_2atteso = 1+(R_4+R_3)/(R_Ttot+R_5)\n",
    "\n",
    "print('V_s2 = ', V_s2, 'mV')\n",
    "print('V_out2 = ', V_out2, 'mV')\n",
    "print('A_2 = ', A_2)\n",
    "print('A_2atteso = ', A_2atteso)\n",
    "\n",
    "print('\\n')\n",
    "\n",
    "f_0attesa = 1/(2*np.pi*R_1*C_1)\n",
    "\n",
    "print('f_0attesa = ', f_0attesa)\n",
    "\n",
    "print('\\n')\n",
    "\n",
    "V_s0 = ufloat(495, np.sqrt(1**2+(0.3+0.003*200)**2))\n",
    "V_A0 = ufloat(488, np.sqrt(10**2+(0.3+0.003*200)**2))\n",
    "\n",
    "A_0 = V_A0/V_s0\n",
    "#A_1atteso = 1+(((R_3*R_Ttot)/(R_3+R_Ttot))+R_4)/()\n",
    "\n",
    "print('V_s0 = ', V_s0, 'mV')\n",
    "print('V_A0 = ', V_A0, 'mV')\n",
    "print('A_0 = ', A_0)"
   ]
  },
  {
   "cell_type": "code",
   "execution_count": 32,
   "metadata": {},
   "outputs": [
    {
     "name": "stdout",
     "output_type": "stream",
     "text": [
      "V_out =  1380+/-5 mV\n",
      "T =  0.0006270+/-0.0000029 s\n",
      "f =  1595+/-7\n"
     ]
    }
   ],
   "source": [
    "V_out = ufloat(1380, np.sqrt(5**2+(0.3+0.003*200)**2))\n",
    "T = ufloat(627.05, np.sqrt(0.2**2+(10/np.sqrt(12))**2))*1e-6\n",
    "f = 1/T\n",
    "\n",
    "print('V_out = ', V_out, 'mV')\n",
    "print('T = ', T, 's')\n",
    "print('f = ', f)\n",
    "\n",
    "\n"
   ]
  }
 ],
 "metadata": {
  "kernelspec": {
   "display_name": "Python 3",
   "language": "python",
   "name": "python3"
  },
  "language_info": {
   "codemirror_mode": {
    "name": "ipython",
    "version": 3
   },
   "file_extension": ".py",
   "mimetype": "text/x-python",
   "name": "python",
   "nbconvert_exporter": "python",
   "pygments_lexer": "ipython3",
   "version": "3.10.12"
  }
 },
 "nbformat": 4,
 "nbformat_minor": 2
}
